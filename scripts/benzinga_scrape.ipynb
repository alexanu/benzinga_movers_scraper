{
 "cells": [
  {
   "cell_type": "code",
   "execution_count": 1,
   "metadata": {
    "collapsed": false
   },
   "outputs": [],
   "source": [
    "import requests\n",
    "import urllib3\n",
    "from bs4 import BeautifulSoup\n",
    "import pandas as pd\n",
    "import re\n",
    "import pandas_datareader.data as web\n",
    "from datetime import datetime, timedelta\n",
    "from pandas.tseries.offsets import BDay\n",
    "\n",
    "from scrape_benzinga import get_initial_biggest_movers_data, get_new_benzinga_data, get_initial_price_data, get_earnings_dates, get_new_earnings_dates,get_new_price_data\n",
    "import warnings\n",
    "warnings.simplefilter(action='ignore', category=FutureWarning)"
   ]
  },
  {
   "cell_type": "markdown",
   "metadata": {},
   "source": [
    "Note: put %%capture at the start of each cell to suppress printed output"
   ]
  },
  {
   "cell_type": "markdown",
   "metadata": {},
   "source": [
    "The steps below are for updating already existing headline, price, volume, and earnings dates data:"
   ]
  },
  {
   "cell_type": "code",
   "execution_count": 2,
   "metadata": {
    "collapsed": false
   },
   "outputs": [],
   "source": [
    "#old benzinga data\n",
    "old_dat = pd.read_csv('stock_headlines.csv')\n",
    "\n",
    "#old price and volume data\n",
    "prices = pd.read_csv('stock_prices.csv')\n",
    "volumes = pd.read_csv('stock_volumes.csv')\n",
    "\n",
    "#old earnings data\n",
    "earnings = pd.read_csv('filing_dates.csv')"
   ]
  },
  {
   "cell_type": "code",
   "execution_count": 3,
   "metadata": {
    "collapsed": false,
    "scrolled": true
   },
   "outputs": [],
   "source": [
    "%%capture\n",
    "#get new benzinga headlines\n",
    "new_dat = get_new_benzinga_data(old_dat)"
   ]
  },
  {
   "cell_type": "code",
   "execution_count": 4,
   "metadata": {
    "collapsed": false
   },
   "outputs": [],
   "source": [
    "#concat old and new headlines\n",
    "df = pd.concat([new_dat, old_dat], axis = 0)"
   ]
  },
  {
   "cell_type": "code",
   "execution_count": 5,
   "metadata": {
    "collapsed": false
   },
   "outputs": [],
   "source": [
    "%%capture\n",
    "#get updated prices and volumes\n",
    "new_prices, new_volumes = get_new_price_data(set(df.ticker.values), prices)"
   ]
  },
  {
   "cell_type": "code",
   "execution_count": 6,
   "metadata": {
    "collapsed": false
   },
   "outputs": [],
   "source": [
    "#concat to old prices and volumes\n",
    "prices = pd.concat([prices, new_prices], axis = 0)\n",
    "volumes = pd.concat([volumes, new_volumes], axis = 0)\n",
    "\n",
    "#sort by ticker then by date\n",
    "prices = prices.sort_values(['ticker', 'date'], ascending = True)\n",
    "volumes = volumes.sort_values(['ticker', 'date'], ascending = True)\n",
    "\n",
    "prices = prices.drop_duplicates()\n",
    "volumes = volumes.drop_duplicates()"
   ]
  },
  {
   "cell_type": "code",
   "execution_count": 7,
   "metadata": {
    "collapsed": true
   },
   "outputs": [],
   "source": [
    "#only keep headlines where we could get price data for\n",
    "df2 = df[df.ticker.isin(set(prices.ticker))]"
   ]
  },
  {
   "cell_type": "code",
   "execution_count": 8,
   "metadata": {
    "collapsed": false,
    "scrolled": true
   },
   "outputs": [],
   "source": [
    "%%capture\n",
    "#get updated earning filing dates\n",
    "new_earnings = get_new_earnings_dates(set(df.ticker.values), earnings, '2015-10-12')"
   ]
  },
  {
   "cell_type": "code",
   "execution_count": 14,
   "metadata": {
    "collapsed": true
   },
   "outputs": [],
   "source": [
    "#concat new earnings to old earnings\n",
    "earnings = pd.concat([new_earnings, earnings], axis = 0)\n",
    "earnings = earnings.sort_values(['ticker', 'filing_dates'], ascending = True)\n",
    "earnings = earnings.drop_duplicates()"
   ]
  },
  {
   "cell_type": "code",
   "execution_count": 15,
   "metadata": {
    "collapsed": false
   },
   "outputs": [],
   "source": [
    "#save stock headlines and price data\n",
    "df2.to_csv('stock_headlines.csv', index = False)\n",
    "volumes.to_csv('stock_volumes.csv', index = False)\n",
    "prices.to_csv('stock_prices.csv', index = False)\n",
    "earnings.to_csv('filing_dates.csv', index = False)"
   ]
  },
  {
   "cell_type": "markdown",
   "metadata": {},
   "source": [
    "The cells below are for doing an initial pull of headline, price, volume, and earnings date data. Benzinga scraper function works for articles going back to October 12, 2015."
   ]
  },
  {
   "cell_type": "code",
   "execution_count": 16,
   "metadata": {
    "collapsed": false,
    "scrolled": true
   },
   "outputs": [],
   "source": [
    "%%capture\n",
    "#get biggest movers data\n",
    "new = get_initial_biggest_movers_data('October 12, 2015')"
   ]
  },
  {
   "cell_type": "code",
   "execution_count": 17,
   "metadata": {
    "collapsed": false
   },
   "outputs": [],
   "source": [
    "%%capture\n",
    "#get initial price and volume data\n",
    "tcks = set(df.ticker.tolist())\n",
    "prices, volumes = get_initial_price_data(tcks, '2015-10-01')"
   ]
  },
  {
   "cell_type": "code",
   "execution_count": 18,
   "metadata": {
    "collapsed": false
   },
   "outputs": [],
   "source": [
    "#only keep headlines where we could get price data for\n",
    "df2 = df[df.ticker.isin(set(prices.ticker))]"
   ]
  },
  {
   "cell_type": "code",
   "execution_count": 19,
   "metadata": {
    "collapsed": false,
    "scrolled": true
   },
   "outputs": [],
   "source": [
    "%%capture\n",
    "#get earning filing dates\n",
    "earnings = get_earnings_dates(set(df2.ticker), '2015-10-09')"
   ]
  },
  {
   "cell_type": "code",
   "execution_count": 10,
   "metadata": {
    "collapsed": true
   },
   "outputs": [],
   "source": [
    "#save stock headlines and price data\n",
    "df2.to_csv('stock_headlines.csv', index = False)\n",
    "volumes.to_csv('stock_volumes.csv', index = False)\n",
    "prices.to_csv('stock_prices.csv', index = False)\n",
    "earnings.to_csv('filing_dates.csv', index = False)"
   ]
  }
 ],
 "metadata": {
  "anaconda-cloud": {},
  "kernelspec": {
   "display_name": "Python [conda env:py36]",
   "language": "python",
   "name": "conda-env-py36-py"
  },
  "language_info": {
   "codemirror_mode": {
    "name": "ipython",
    "version": 3
   },
   "file_extension": ".py",
   "mimetype": "text/x-python",
   "name": "python",
   "nbconvert_exporter": "python",
   "pygments_lexer": "ipython3",
   "version": "3.6.8"
  }
 },
 "nbformat": 4,
 "nbformat_minor": 1
}
